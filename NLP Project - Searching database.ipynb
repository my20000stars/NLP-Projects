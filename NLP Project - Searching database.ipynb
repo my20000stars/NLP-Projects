{
  "nbformat": 4,
  "nbformat_minor": 0,
  "metadata": {
    "colab": {
      "name": "NLP Project - Searching database.ipynb",
      "provenance": [],
      "collapsed_sections": []
    },
    "kernelspec": {
      "name": "python3",
      "display_name": "Python 3"
    },
    "language_info": {
      "name": "python"
    }
  },
  "cells": [
    {
      "cell_type": "markdown",
      "source": [
        "### NLP Project - Sommeliere chat bot\n",
        "\n",
        "Develop a chat bot which answers client's questions by finding the matching question and answer in the database."
      ],
      "metadata": {
        "id": "pVXKVMLrgtM6"
      }
    },
    {
      "cell_type": "code",
      "source": [
        "# About the information of the wine database, I extracted them from below websites:\n",
        "# 1. https://www.abcfws.com/12-commonly-asked-wine-questions-answered \n",
        "# 2. https://www.wine.com/# \n",
        "\n",
        "# There are 22 wine questions and paired answers. \n",
        "\n",
        "wine_database = {\n",
        "    \"Should I decant wine before I drink it?\"                    : \"The overwhelming majority of wines purchased in our stores are intended for immediate consumption and don’t need to be decanted.\",\n",
        "    \"What is the best way to store wine?\"                        : \"Keep storage temperature at around 55 degrees Fahrenheit and keep bottles horizontally to keep the corks from drying out.\",\n",
        "    \"At what temperature should wine be served?\"                 : \"Serving temperature has everything to do with the wine’s style.\",\n",
        "    \"Should I pay attention to wine ratings?\"                    : \"Yes, using them strictly as a guide.\",\n",
        "    \"What do wine ratings mean?\"                                 : \"These ratings are the opinion of one person. If you enjoy one's style, odds are you would love most wines that he/she scored well.\",\n",
        "    \"What are sulfites?\"                                         : \"Sulfites, or sulfur dioxide (SO2), are chemical compounds that occur naturally at low levels during the fermentation process of winemaking.\",\n",
        "    \"Once you have chilled wine, do you need to keep it chilled?\": \"A chilled wine can go from the refrigerator to the table and back again without suffering any negative effects to the quality of the wine.\",\n",
        "    \"How long will wine last once it is opened?\"                 : \"It depends on the wine.\",\n",
        "    \"What wine is best to serve for a large group?\"              : \"Prosecco or Cava.\",\n",
        "    \"How can you tell if a wine is bad when you open it?\"        : \"Check if the wine lose its color, and taste if cork taint.\",\n",
        "    \"Why do some wines give me a headache?\"                      : \"Because the tannins and sugar in the wine.\",\n",
        "    \"What is a tannin?\"                                          : \"Tannins are a group of chemical compounds found in a lot of the foods and drinks we enjoy every day.\",\n",
        "    \"Is Tannins good?\"                                           : \"Well, Tannins is good in any case unless you don’t like the feel of them.\",\n",
        "    \"Difference between Old World and New World wine?\"           : \"Old World wines are European and New World wines are everything else.\",\n",
        "    \"Could you recommend me the wine with chocolate flavor?\"     : \"Try our ChocolatRouge, Fondante Ciello and Cocoa di Vine.\",\n",
        "    \"Could you recommend me some creamy wine?\"                   : \"Check out the white wine of Chardonnay and white wine of Burgundy.\",\n",
        "    \"I like the wine with aromas of dark fruits of boysenberry\"  : \"Try our Rutherford Hill Cabernet Sauvignon 2016! It has aromas of dark fruits of boysenberry.\",\n",
        "    \"Wine notes of dusted blackberries, plum, and cherry lead to a back-drift of toast and fleeting tobacco.\" : \"Try our Turnbull Cabernet Sauvignon 2019!\",\n",
        "    \"Wine with straw-yellow hue, clean intense aroma, and crisp, well-balanced taste\"                         : \"Try our Santa Margherita Pinot Grigio 2021!\",\n",
        "    \"Sparkling wine. The finish is light and refreshing with a tantalizing hint of sweetness.\"                : \"Try our La Marca Prosecco!\",\n",
        "    \"Sparkling wine with floral notes and hints of fruit flavors, such as peach, tropical fruits and lychee\"  : \"Try our Cupcake Moscato D'Asti!\",\n",
        "    \"What is the best wine you have?\"                            : \"Best wine varies by personal preference, but our best sell wine is Cupcake Moscato D'Asti!\"\n",
        "    }"
      ],
      "metadata": {
        "id": "6OtzoRkQYqxH"
      },
      "execution_count": 1,
      "outputs": []
    },
    {
      "cell_type": "code",
      "source": [
        "def Sommeliere_bot(database = wine_database, threshold = 0.4):\n",
        "  import numpy as np\n",
        "  import pandas as pd\n",
        "  import nltk\n",
        "  from nltk.stem.snowball import SnowballStemmer\n",
        "  from sklearn.feature_extraction.text import TfidfVectorizer\n",
        "  s_stemmer = SnowballStemmer(language = 'english')\n",
        "  tfidf = TfidfVectorizer(stop_words = 'english')\n",
        "\n",
        "  def preprocess_database(database):\n",
        "    lst_ans  = list(database.values())\n",
        "    lst_ques = []\n",
        "    questions = [question.lower().replace(\".\", \"\").replace(\"?\", \"\").replace(\",\", \"\").split(\" \") for question in database]\n",
        "    for question in questions:\n",
        "      string = \" \".join(s_stemmer.stem(word) for word in question)\n",
        "      lst_ques.append(string)\n",
        "    return lst_ques, lst_ans\n",
        "\n",
        "  def convert_query2vec(q):\n",
        "    q = [w.lower().replace(\".\", \"\").replace(\"?\", \"\").replace(\",\", \"\") for w in q.split()]\n",
        "    q = [\" \".join(s_stemmer.stem(w) for w in q)]\n",
        "    q_vec = tfidf.transform(q)\n",
        "    key_word_q = tfidf.get_feature_names_out()[q_vec.toarray().argmax()]\n",
        "    return q_vec, key_word_q\n",
        "  \n",
        "  def cosine_similarity_func(q_vec, dtm):\n",
        "    q = q_vec.todense()\n",
        "    d = dtm.todense()\n",
        "    unit_q =  q / np.sqrt(np.sum(np.square(q), axis = 1))\n",
        "    unit_d =  d / np.sqrt(np.sum(np.square(d), axis = 1))\n",
        "    similarity = unit_q.dot(unit_d.T)\n",
        "    return similarity\n",
        "\n",
        "  def pair_answer(lst_ans, scores):\n",
        "    if max(scores.tolist()[0]) < threshold:\n",
        "      return \"We're sorry. We were not able to find a match.\"\n",
        "    else:\n",
        "      return lst_ans[scores.argsort().tolist()[0][-1]]\n",
        "  \n",
        "  lst_ques, lst_ans = preprocess_database(database)\n",
        "  dtm = tfidf.fit_transform(lst_ques)\n",
        "  q = input('Hi! I am your online sommeliere, how could I help you about wine today?\\n\\n')\n",
        "  q_vec, key_word_q = convert_query2vec(q)\n",
        "  print(f'\\nThanks for your question :) The key word of your question is: {key_word_q}\\n')\n",
        "  scores = cosine_similarity_func(q_vec, dtm)\n",
        "  prediction = pair_answer(lst_ans, scores)\n",
        "  return prediction"
      ],
      "metadata": {
        "id": "MgcKEFn0zzro"
      },
      "execution_count": 2,
      "outputs": []
    },
    {
      "cell_type": "code",
      "source": [
        "Sommeliere_bot(threshold = 0.4)"
      ],
      "metadata": {
        "colab": {
          "base_uri": "https://localhost:8080/",
          "height": 140
        },
        "id": "5fWanjD68S1w",
        "outputId": "9bc76e98-2ef7-421c-848e-f26e4a66c7e8"
      },
      "execution_count": 3,
      "outputs": [
        {
          "output_type": "stream",
          "name": "stdout",
          "text": [
            "Hi! I am your online sommeliere, how could I help you about wine today?\n",
            "\n",
            "Could you recommend me the wine with aroma of tropical fruits?\n",
            "\n",
            "Thanks for your question :) The key word of your question is: tropic\n",
            "\n"
          ]
        },
        {
          "output_type": "execute_result",
          "data": {
            "text/plain": [
              "\"Try our Cupcake Moscato D'Asti!\""
            ],
            "application/vnd.google.colaboratory.intrinsic+json": {
              "type": "string"
            }
          },
          "metadata": {},
          "execution_count": 3
        }
      ]
    },
    {
      "cell_type": "code",
      "source": [
        ""
      ],
      "metadata": {
        "id": "j13WEHJ3NdHU"
      },
      "execution_count": 3,
      "outputs": []
    }
  ]
}